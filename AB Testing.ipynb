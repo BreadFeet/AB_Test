{
 "cells": [
  {
   "cell_type": "markdown",
   "metadata": {},
   "source": [
    "# **Introduction to A/B Testing Using The P-Value Method**\n",
    "\n",
    "Estimated time needed: **30** minutes\n",
    "\n",
    "You are a project manager at a company. Two years ago, your team launched a new website blog that is only available a light mode. Last week, while you were reading your e-book, you noticed that you switched it to dark mode right after you downloaded the e-book reading app. \n",
    "\n",
    "You start contemplating whether your company's website blog should also feature a dark mode, but you are not sure if this would actually be worth doing. You're wondering if readers avoid subscribing due to eye discomfort while reading your blog. In this lab, you will be working with Python and be introduced to A/B Testing and use this method to see if more readers/users would actually convert to this website blog if you made that available in dark mode.\n",
    "\n",
    "\n",
    "<img src=\"https://cf-courses-data.s3.us.cloud-object-storage.appdomain.cloud/IBMSkillsNetwork-GPXX022OEN/Screenshot%202024-01-24%20at%2011.32.33%E2%80%AFAM.png\" width=\"70%\" alt=\"ab testing image\" class=\"centerImage\">\n",
    "\n",
    "<font color=gray>*Image Resource* :</font> <a href=\"https://www.emailonacid.com/blog/article/email-marketing/dark-mode-vs-light-mode-ux-debate/\">here</a>\n"
   ]
  },
  {
   "cell_type": "markdown",
   "metadata": {},
   "source": [
    "# __Table of Contents__\n",
    "\n",
    "<ol>\n",
    "    <li><a href=\"#Objectives\">Objectives</a></li>\n",
    "    <li>\n",
    "        <a href=\"#Setup\">Setup</a>\n",
    "        <ol>\n",
    "            <li><a href=\"#Installing-Required-Libraries\">Installing Required Libraries</a></li>\n",
    "            <li><a href=\"#Importing-Required-Libraries\">Importing Required Libraries</a></li>\n",
    "        </ol>\n",
    "    </li>\n",
    "    <li>\n",
    "        <a href=\"#A/B Testing-Background\">A/B Testing Background</a>\n",
    "        <ol>\n",
    "            <li><a href=\"# What does A/B Testing-do?\">What does A/B Testing-do?</a></li>\n",
    "            <li><a href=\"#How-does-[Subject-of-the-Lab]-work?\">The Steps to A/B Testing</a></li>\n",
    "        </ol>\n",
    "    </li>\n",
    "    <li><a href=\"#Build-[Subject-of-the-Lab]-Model-To-Predict-Iris-Flowers\">Taking A Look At Our Data</a></li>\n",
    "        <ol>\n",
    "    <li><a href=\"#Build-[Subject-of-the-Lab]-Model-To-Read-Cheques\">Designing the Experiment</a></li>\n",
    "    <li><a href=\"#Build-[Subject-of-the-Lab]-Model-To-Read-Cheques\">Collecting and Preparing the Data</a></li>\n",
    "    <li><a href=\"#Build-[Subject-of-the-Lab]-Model-To-Read-Cheques\">Visualising the Results</a></li>\n",
    "    <li><a href=\"#Build-[Subject-of-the-Lab]-Model-To-Read-Cheques\">Testing the Hypothesis</a></li>\n",
    "    <li><a href=\"#Build-[Subject-of-the-Lab]-Model-To-Read-Cheques\">Drawing Conclusions</a></li>\n",
    "        </ol>\n",
    "    <li>\n",
    "        <a href=\"#Exercises\">Exercises</a>\n",
    "        <ol>\n",
    "            <li><a href=\"#Exercise-1-Loading-a-dataset-(wine-dataset)\">Exercise 1 - Formulate the hypothesis for this problem</a></li>\n",
    "            <li><a href=\"#Exercise-2-Type-in-Exercise-2-subject-here\">Exercise 2 - Collect and clean up the dataset</a></li>\n",
    "            <li><a href=\"#Exercise-3-Type-in-Exercise-3-subject-here\">Exercise 3 - Given that the baseline conversion is 10%, and we expect the conversion rate to be 15%, find the sample size needed</a></li>\n",
    "            <li><a href=\"#Exercise-2-Type-in-Exercise-2-subject-here\">Exercise 4 - Split the data into treatment and control groups</a></li>\n",
    "            <li><a href=\"#Exercise-3-Type-in-Exercise-3-subject-here\">Exercise 5 - Calculate the p-value</a></li>\n",
    "        </ol>\n",
    "    </li>\n",
    "</ol>\n"
   ]
  },
  {
   "cell_type": "markdown",
   "metadata": {},
   "source": [
    "---\n"
   ]
  },
  {
   "cell_type": "markdown",
   "metadata": {},
   "source": [
    "# Objectives\n",
    "\n",
    "After completing this lab you will be able to:\n",
    "\n",
    " - Use A/B Testing to determine which variant is better performing.\n",
    " - Work with p-values and interpret the conclusion\n",
    " - Use Python to perform data cleaning and data visualizations\n"
   ]
  },
  {
   "cell_type": "markdown",
   "metadata": {},
   "source": [
    "---\n"
   ]
  },
  {
   "cell_type": "markdown",
   "metadata": {},
   "source": [
    "# Setup\n"
   ]
  },
  {
   "cell_type": "markdown",
   "metadata": {},
   "source": [
    "For this lab, we will be using the following libraries:\n",
    "\n",
    "*   [`pandas`](https://pandas.pydata.org/?utm_medium=Exinfluencer&utm_source=Exinfluencer&utm_content=000026UJ&utm_term=10006555&utm_id=NA-SkillsNetwork-Channel-SkillsNetworkCoursesIBMML0187ENSkillsNetwork31430127-2021-01-01) for managing the data.\n",
    "*   [`numpy`](https://numpy.org/?utm_medium=Exinfluencer&utm_source=Exinfluencer&utm_content=000026UJ&utm_term=10006555&utm_id=NA-SkillsNetwork-Channel-SkillsNetworkCoursesIBMML0187ENSkillsNetwork31430127-2021-01-01) for mathematical operations.\n",
    "*   [`sklearn`](https://scikit-learn.org/stable/?utm_medium=Exinfluencer&utm_source=Exinfluencer&utm_content=000026UJ&utm_term=10006555&utm_id=NA-SkillsNetwork-Channel-SkillsNetworkCoursesIBMML0187ENSkillsNetwork31430127-2021-01-01) for machine learning and machine-learning-pipeline related functions.\n",
    "* pdarima to fill the void in Python's time series analysis capabilities.\n",
    "* tqdm to make your loops show a smart progress meter.\n",
    "*   [`seaborn`](https://seaborn.pydata.org/?utm_medium=Exinfluencer&utm_source=Exinfluencer&utm_content=000026UJ&utm_term=10006555&utm_id=NA-SkillsNetwork-Channel-SkillsNetworkCoursesIBMML0187ENSkillsNetwork31430127-2021-01-01) for visualizing the data.\n",
    "*   [`matplotlib`](https://matplotlib.org/?utm_medium=Exinfluencer&utm_source=Exinfluencer&utm_content=000026UJ&utm_term=10006555&utm_id=NA-SkillsNetwork-Channel-SkillsNetworkCoursesIBMML0187ENSkillsNetwork31430127-2021-01-01) for additional plotting tools.\n"
   ]
  },
  {
   "cell_type": "markdown",
   "metadata": {},
   "source": [
    "### Installing Required Libraries\n",
    "\n",
    "The following required libraries are pre-installed in the Skills Network Labs environment. However, if you run this notebook commands in a different Jupyter environment (e.g. Watson Studio or Ananconda), you will need to install these libraries by removing the `#` sign before `!pip` in the code cell below.\n"
   ]
  },
  {
   "cell_type": "code",
   "execution_count": 2,
   "metadata": {
    "ExecuteTime": {
     "end_time": "2025-04-29T01:22:12.941719Z",
     "start_time": "2025-04-29T01:21:51.369550Z"
    }
   },
   "outputs": [
    {
     "name": "stdout",
     "output_type": "stream",
     "text": [
      "Requirement already satisfied: pmdarima==2.0.2 in c:\\users\\sk\\anaconda3\\lib\\site-packages (2.0.2)\n",
      "Requirement already satisfied: joblib>=0.11 in c:\\users\\sk\\anaconda3\\lib\\site-packages (from pmdarima==2.0.2) (1.2.0)\n",
      "Requirement already satisfied: Cython!=0.29.18,!=0.29.31,>=0.29 in c:\\users\\sk\\anaconda3\\lib\\site-packages (from pmdarima==2.0.2) (0.29.35)\n",
      "Requirement already satisfied: numpy>=1.21.2 in c:\\users\\sk\\anaconda3\\lib\\site-packages (from pmdarima==2.0.2) (1.22.4)\n",
      "Requirement already satisfied: pandas>=0.19 in c:\\users\\sk\\anaconda3\\lib\\site-packages (from pmdarima==2.0.2) (1.5.3)\n",
      "Requirement already satisfied: scikit-learn>=0.22 in c:\\users\\sk\\anaconda3\\lib\\site-packages (from pmdarima==2.0.2) (1.3.0)\n",
      "Requirement already satisfied: scipy>=1.3.2 in c:\\users\\sk\\anaconda3\\lib\\site-packages (from pmdarima==2.0.2) (1.10.1)\n",
      "Requirement already satisfied: statsmodels>=0.13.2 in c:\\users\\sk\\anaconda3\\lib\\site-packages (from pmdarima==2.0.2) (0.14.0)\n",
      "Requirement already satisfied: urllib3 in c:\\users\\sk\\anaconda3\\lib\\site-packages (from pmdarima==2.0.2) (1.26.16)\n",
      "Requirement already satisfied: setuptools!=50.0.0,>=38.6.0 in c:\\users\\sk\\anaconda3\\lib\\site-packages (from pmdarima==2.0.2) (68.0.0)\n",
      "Requirement already satisfied: python-dateutil>=2.8.1 in c:\\users\\sk\\anaconda3\\lib\\site-packages (from pandas>=0.19->pmdarima==2.0.2) (2.8.2)\n",
      "Requirement already satisfied: pytz>=2020.1 in c:\\users\\sk\\anaconda3\\lib\\site-packages (from pandas>=0.19->pmdarima==2.0.2) (2022.7)\n",
      "Requirement already satisfied: threadpoolctl>=2.0.0 in c:\\users\\sk\\anaconda3\\lib\\site-packages (from scikit-learn>=0.22->pmdarima==2.0.2) (2.2.0)\n",
      "Requirement already satisfied: patsy>=0.5.2 in c:\\users\\sk\\anaconda3\\lib\\site-packages (from statsmodels>=0.13.2->pmdarima==2.0.2) (0.5.3)\n",
      "Requirement already satisfied: packaging>=21.3 in c:\\users\\sk\\anaconda3\\lib\\site-packages (from statsmodels>=0.13.2->pmdarima==2.0.2) (23.0)\n",
      "Requirement already satisfied: six in c:\\users\\sk\\anaconda3\\lib\\site-packages (from patsy>=0.5.2->statsmodels>=0.13.2->pmdarima==2.0.2) (1.16.0)\n",
      "Requirement already satisfied: tqdm in c:\\users\\sk\\anaconda3\\lib\\site-packages (4.65.0)\n",
      "Requirement already satisfied: colorama in c:\\users\\sk\\anaconda3\\lib\\site-packages (from tqdm) (0.4.6)\n"
     ]
    }
   ],
   "source": [
    "# All Libraries required for this lab are listed below. The libraries pre-installed on Skills Network Labs are commented.\n",
    "# !pip install -qy pandas==1.3.4 numpy==1.21.4 seaborn==0.9.0 matplotlib==3.5.0 scikit-learn==0.20.1\n",
    "!pip install --upgrade pmdarima==2.0.2\n",
    "!pip install tqdm\n",
    "# Note: If your environment doesn't support \"!pip install\", use \"!mamba install\""
   ]
  },
  {
   "cell_type": "markdown",
   "metadata": {},
   "source": [
    "### Importing Required Libraries\n",
    "\n",
    "_We recommend you import all required libraries in one place (here):_\n"
   ]
  },
  {
   "cell_type": "code",
   "execution_count": 3,
   "metadata": {
    "ExecuteTime": {
     "end_time": "2025-04-29T01:22:19.822028Z",
     "start_time": "2025-04-29T01:22:12.946724Z"
    }
   },
   "outputs": [],
   "source": [
    "from tqdm import tqdm\n",
    "import skillsnetwork\n",
    "import numpy as np\n",
    "import pandas as pd\n",
    "#from itertools import accumulate\n",
    "import matplotlib.pyplot as plt\n",
    "import seaborn as sns\n",
    "import statsmodels.stats.api as sms \n",
    "%matplotlib inline\n",
    "from math import ceil\n",
    "\n",
    "# You can also use this section to suppress warnings generated by your code:\n",
    "import warnings\n",
    "def warn(*args, **kwargs):\n",
    "    pass\n",
    "warnings.warn = warn   # wanrings.warn function is replaced by warn function\n",
    "warnings.filterwarnings('ignore')\n",
    "\n",
    "sns.set_context('notebook')\n",
    "sns.set_style('white')"
   ]
  },
  {
   "cell_type": "markdown",
   "metadata": {},
   "source": [
    "---\n"
   ]
  },
  {
   "cell_type": "markdown",
   "metadata": {},
   "source": [
    "# A/B Testing Background\n",
    "\n",
    "Before we delve into **A/B Testing**, we should first understand:\n",
    "\n",
    "1.  What A/B Testing does\n",
    "2.  The steps to A/B Testing \n",
    "\n",
    "\n",
    "## What does A/B Testing do?\n",
    "\n",
    "### The foundemental of A/B Testing:\n",
    "A/B Testing is a technique used to compare two variants of a variable (old vs. new page, email vs. no email, ...). Often, this is employed to determine whether one variant performs better than the other by splitting our users into two groups: one that receives the treatment (gets the new version of the website, receives the email about the new campaign, ...) and one that does not. \n",
    "A/B testing is an essential of digital strategy, enabling businesses to make informed decisions based on real user data. By optimizing digital experiences through A/B testing, companies can enhance user engagement, increase conversion rates, and ultimately drive business growth. \n",
    "\n",
    "## The steps to A/B Testing \n",
    "\n",
    "To conduct A/B Testing, we need to follow these steps:\n",
    "1. Designing the experiment\n",
    "2. Collecting and preparing the data\n",
    "3. Visualising the results\n",
    "4. Testing the hypothesis\n",
    "5. Drawing conclusions\n"
   ]
  },
  {
   "cell_type": "markdown",
   "metadata": {},
   "source": [
    "---\n"
   ]
  },
  {
   "cell_type": "markdown",
   "metadata": {},
   "source": [
    "# Taking a look at our data\n",
    "\n",
    "## Import ab_data dataset\n",
    "\n",
    "<img src=\"https://cf-courses-data.s3.us.cloud-object-storage.appdomain.cloud/IBMSkillsNetwork-GPXX022OEN/Screenshot%202024-01-19%20at%202.15.44%E2%80%AFPM.png\" width=\"50%\" alt=\"dark_and_light_mode\">\n",
    "\n",
    "<font color=gray>*Image Resource* :</font> <a href=\"https://blog.eyeconic.com/tips-tricks-and-tech/what-is-dark-mode.html\">here</a>\n",
    "\n",
    "Your company's website has always been in light mode, and recently, it's exploring the possibility of introducing a dark mode. The objective is to assess whether implementing a dark mode will result in a higher conversion rate for users visiting the website.\n",
    "\n",
    "A system has been implemented to collect the following data:\n",
    "\n",
    "- `user_id`: the user ID of the person who clicks into your company's website\n",
    "- `timestamp`: the date and time when the user visited the website\n",
    "- `group`: the group to which the user belongs (treatment vs control)\n",
    "- `landing_page`: the page that the user lands on (old vs new page, representing light vs dark mode, respectively)\n",
    "- `converted`: whether or not the user has converted to the new page\n",
    "\n",
    "Your task is to determine whether the new version of the page will increase the users' conversion rate on the website.\n",
    "\n",
    "Before we dive in, let's take a look at our data by loading the `ab_data` dataset into a `pandas.DataFrame`:\n"
   ]
  },
  {
   "cell_type": "code",
   "execution_count": 4,
   "metadata": {
    "ExecuteTime": {
     "end_time": "2025-04-29T01:22:27.964748Z",
     "start_time": "2025-04-29T01:22:19.827033Z"
    }
   },
   "outputs": [
    {
     "data": {
      "application/vnd.jupyter.widget-view+json": {
       "model_id": "efb298739a1441afaa992770f5697de6",
       "version_major": 2,
       "version_minor": 0
      },
      "text/plain": [
       "Downloading ab_data.csv:   0%|          | 0/15901933 [00:00<?, ?it/s]"
      ]
     },
     "metadata": {},
     "output_type": "display_data"
    }
   ],
   "source": [
    "await skillsnetwork.download_dataset('https://cf-courses-data.s3.us.cloud-object-storage.appdomain.cloud/IBMSkillsNetwork-GPXX022OEN/ab_data.csv')\n",
    "df = pd.read_csv('ab_data.csv')"
   ]
  },
  {
   "cell_type": "markdown",
   "metadata": {},
   "source": [
    "Let's look at some samples rows from the dataset we loaded:\n"
   ]
  },
  {
   "cell_type": "code",
   "execution_count": 5,
   "metadata": {
    "ExecuteTime": {
     "end_time": "2025-04-29T01:22:28.011268Z",
     "start_time": "2025-04-29T01:22:27.967750Z"
    }
   },
   "outputs": [
    {
     "data": {
      "text/html": [
       "<div>\n",
       "<style scoped>\n",
       "    .dataframe tbody tr th:only-of-type {\n",
       "        vertical-align: middle;\n",
       "    }\n",
       "\n",
       "    .dataframe tbody tr th {\n",
       "        vertical-align: top;\n",
       "    }\n",
       "\n",
       "    .dataframe thead th {\n",
       "        text-align: right;\n",
       "    }\n",
       "</style>\n",
       "<table border=\"1\" class=\"dataframe\">\n",
       "  <thead>\n",
       "    <tr style=\"text-align: right;\">\n",
       "      <th></th>\n",
       "      <th>user_id</th>\n",
       "      <th>timestamp</th>\n",
       "      <th>group</th>\n",
       "      <th>landing_page</th>\n",
       "      <th>converted</th>\n",
       "    </tr>\n",
       "  </thead>\n",
       "  <tbody>\n",
       "    <tr>\n",
       "      <th>84464</th>\n",
       "      <td>718928</td>\n",
       "      <td>2017-01-15 07:15:30.354464</td>\n",
       "      <td>treatment</td>\n",
       "      <td>new_page</td>\n",
       "      <td>0</td>\n",
       "    </tr>\n",
       "    <tr>\n",
       "      <th>166575</th>\n",
       "      <td>723406</td>\n",
       "      <td>2017-01-22 08:45:36.465944</td>\n",
       "      <td>control</td>\n",
       "      <td>old_page</td>\n",
       "      <td>0</td>\n",
       "    </tr>\n",
       "    <tr>\n",
       "      <th>19410</th>\n",
       "      <td>734488</td>\n",
       "      <td>2017-01-10 06:49:31.022002</td>\n",
       "      <td>control</td>\n",
       "      <td>old_page</td>\n",
       "      <td>0</td>\n",
       "    </tr>\n",
       "    <tr>\n",
       "      <th>229861</th>\n",
       "      <td>670532</td>\n",
       "      <td>2017-01-17 10:49:24.441892</td>\n",
       "      <td>control</td>\n",
       "      <td>old_page</td>\n",
       "      <td>1</td>\n",
       "    </tr>\n",
       "    <tr>\n",
       "      <th>196794</th>\n",
       "      <td>843971</td>\n",
       "      <td>2017-01-09 17:02:27.049389</td>\n",
       "      <td>control</td>\n",
       "      <td>old_page</td>\n",
       "      <td>0</td>\n",
       "    </tr>\n",
       "  </tbody>\n",
       "</table>\n",
       "</div>"
      ],
      "text/plain": [
       "        user_id                   timestamp      group landing_page  converted\n",
       "84464    718928  2017-01-15 07:15:30.354464  treatment     new_page          0\n",
       "166575   723406  2017-01-22 08:45:36.465944    control     old_page          0\n",
       "19410    734488  2017-01-10 06:49:31.022002    control     old_page          0\n",
       "229861   670532  2017-01-17 10:49:24.441892    control     old_page          1\n",
       "196794   843971  2017-01-09 17:02:27.049389    control     old_page          0"
      ]
     },
     "execution_count": 5,
     "metadata": {},
     "output_type": "execute_result"
    }
   ],
   "source": [
    "df.sample(5)"
   ]
  },
  {
   "cell_type": "code",
   "execution_count": 6,
   "metadata": {
    "ExecuteTime": {
     "end_time": "2025-04-29T01:22:28.043275Z",
     "start_time": "2025-04-29T01:22:28.015269Z"
    }
   },
   "outputs": [
    {
     "data": {
      "text/html": [
       "<div>\n",
       "<style scoped>\n",
       "    .dataframe tbody tr th:only-of-type {\n",
       "        vertical-align: middle;\n",
       "    }\n",
       "\n",
       "    .dataframe tbody tr th {\n",
       "        vertical-align: top;\n",
       "    }\n",
       "\n",
       "    .dataframe thead th {\n",
       "        text-align: right;\n",
       "    }\n",
       "</style>\n",
       "<table border=\"1\" class=\"dataframe\">\n",
       "  <thead>\n",
       "    <tr style=\"text-align: right;\">\n",
       "      <th></th>\n",
       "      <th>user_id</th>\n",
       "      <th>timestamp</th>\n",
       "      <th>group</th>\n",
       "      <th>landing_page</th>\n",
       "      <th>converted</th>\n",
       "    </tr>\n",
       "  </thead>\n",
       "  <tbody>\n",
       "    <tr>\n",
       "      <th>0</th>\n",
       "      <td>851104</td>\n",
       "      <td>2017-01-21 22:11:48.556739</td>\n",
       "      <td>control</td>\n",
       "      <td>old_page</td>\n",
       "      <td>0</td>\n",
       "    </tr>\n",
       "    <tr>\n",
       "      <th>1</th>\n",
       "      <td>804228</td>\n",
       "      <td>2017-01-12 08:01:45.159739</td>\n",
       "      <td>control</td>\n",
       "      <td>old_page</td>\n",
       "      <td>0</td>\n",
       "    </tr>\n",
       "    <tr>\n",
       "      <th>2</th>\n",
       "      <td>661590</td>\n",
       "      <td>2017-01-11 16:55:06.154213</td>\n",
       "      <td>treatment</td>\n",
       "      <td>new_page</td>\n",
       "      <td>0</td>\n",
       "    </tr>\n",
       "    <tr>\n",
       "      <th>3</th>\n",
       "      <td>853541</td>\n",
       "      <td>2017-01-08 18:28:03.143765</td>\n",
       "      <td>treatment</td>\n",
       "      <td>new_page</td>\n",
       "      <td>0</td>\n",
       "    </tr>\n",
       "    <tr>\n",
       "      <th>4</th>\n",
       "      <td>864975</td>\n",
       "      <td>2017-01-21 01:52:26.210827</td>\n",
       "      <td>control</td>\n",
       "      <td>old_page</td>\n",
       "      <td>1</td>\n",
       "    </tr>\n",
       "  </tbody>\n",
       "</table>\n",
       "</div>"
      ],
      "text/plain": [
       "   user_id                   timestamp      group landing_page  converted\n",
       "0   851104  2017-01-21 22:11:48.556739    control     old_page          0\n",
       "1   804228  2017-01-12 08:01:45.159739    control     old_page          0\n",
       "2   661590  2017-01-11 16:55:06.154213  treatment     new_page          0\n",
       "3   853541  2017-01-08 18:28:03.143765  treatment     new_page          0\n",
       "4   864975  2017-01-21 01:52:26.210827    control     old_page          1"
      ]
     },
     "execution_count": 6,
     "metadata": {},
     "output_type": "execute_result"
    }
   ],
   "source": [
    "df.head(5)"
   ]
  },
  {
   "cell_type": "markdown",
   "metadata": {},
   "source": [
    "For clarity, let's create a new column \"version\", such that if the landing page is the old one, then this means that it is the light mode, otherwise in dark mode.\n"
   ]
  },
  {
   "cell_type": "code",
   "execution_count": 7,
   "metadata": {
    "ExecuteTime": {
     "end_time": "2025-04-29T01:22:28.168322Z",
     "start_time": "2025-04-29T01:22:28.047278Z"
    }
   },
   "outputs": [
    {
     "data": {
      "text/html": [
       "<div>\n",
       "<style scoped>\n",
       "    .dataframe tbody tr th:only-of-type {\n",
       "        vertical-align: middle;\n",
       "    }\n",
       "\n",
       "    .dataframe tbody tr th {\n",
       "        vertical-align: top;\n",
       "    }\n",
       "\n",
       "    .dataframe thead th {\n",
       "        text-align: right;\n",
       "    }\n",
       "</style>\n",
       "<table border=\"1\" class=\"dataframe\">\n",
       "  <thead>\n",
       "    <tr style=\"text-align: right;\">\n",
       "      <th></th>\n",
       "      <th>user_id</th>\n",
       "      <th>timestamp</th>\n",
       "      <th>group</th>\n",
       "      <th>landing_page</th>\n",
       "      <th>converted</th>\n",
       "      <th>version</th>\n",
       "    </tr>\n",
       "  </thead>\n",
       "  <tbody>\n",
       "    <tr>\n",
       "      <th>0</th>\n",
       "      <td>851104</td>\n",
       "      <td>2017-01-21 22:11:48.556739</td>\n",
       "      <td>control</td>\n",
       "      <td>old_page</td>\n",
       "      <td>0</td>\n",
       "      <td>light_mode</td>\n",
       "    </tr>\n",
       "    <tr>\n",
       "      <th>1</th>\n",
       "      <td>804228</td>\n",
       "      <td>2017-01-12 08:01:45.159739</td>\n",
       "      <td>control</td>\n",
       "      <td>old_page</td>\n",
       "      <td>0</td>\n",
       "      <td>light_mode</td>\n",
       "    </tr>\n",
       "    <tr>\n",
       "      <th>2</th>\n",
       "      <td>661590</td>\n",
       "      <td>2017-01-11 16:55:06.154213</td>\n",
       "      <td>treatment</td>\n",
       "      <td>new_page</td>\n",
       "      <td>0</td>\n",
       "      <td>dark_mode</td>\n",
       "    </tr>\n",
       "    <tr>\n",
       "      <th>3</th>\n",
       "      <td>853541</td>\n",
       "      <td>2017-01-08 18:28:03.143765</td>\n",
       "      <td>treatment</td>\n",
       "      <td>new_page</td>\n",
       "      <td>0</td>\n",
       "      <td>dark_mode</td>\n",
       "    </tr>\n",
       "    <tr>\n",
       "      <th>4</th>\n",
       "      <td>864975</td>\n",
       "      <td>2017-01-21 01:52:26.210827</td>\n",
       "      <td>control</td>\n",
       "      <td>old_page</td>\n",
       "      <td>1</td>\n",
       "      <td>light_mode</td>\n",
       "    </tr>\n",
       "  </tbody>\n",
       "</table>\n",
       "</div>"
      ],
      "text/plain": [
       "   user_id                   timestamp      group landing_page  converted  \\\n",
       "0   851104  2017-01-21 22:11:48.556739    control     old_page          0   \n",
       "1   804228  2017-01-12 08:01:45.159739    control     old_page          0   \n",
       "2   661590  2017-01-11 16:55:06.154213  treatment     new_page          0   \n",
       "3   853541  2017-01-08 18:28:03.143765  treatment     new_page          0   \n",
       "4   864975  2017-01-21 01:52:26.210827    control     old_page          1   \n",
       "\n",
       "      version  \n",
       "0  light_mode  \n",
       "1  light_mode  \n",
       "2   dark_mode  \n",
       "3   dark_mode  \n",
       "4  light_mode  "
      ]
     },
     "execution_count": 7,
     "metadata": {},
     "output_type": "execute_result"
    }
   ],
   "source": [
    "df['version'] = np.where(df['landing_page']=='new_page', 'dark_mode', 'light_mode')   # control = old_page = light_mode\n",
    "df.head(5)"
   ]
  },
  {
   "cell_type": "markdown",
   "metadata": {},
   "source": [
    "Let's take a look at how many users are assigned to the treatment or control groups. \n",
    "\n",
    "In A/B tests, to test whether a variant is efficient or not, the users are separated into two groups: the treatment group and control group. The treatment group receives the change or the treatment, and the control group does not.\n",
    "\n",
    "From the output below, roughly half of the users are in the control group and the other half receive the treatment.\n"
   ]
  },
  {
   "cell_type": "code",
   "execution_count": 8,
   "metadata": {
    "ExecuteTime": {
     "end_time": "2025-04-29T01:22:28.215314Z",
     "start_time": "2025-04-29T01:22:28.171304Z"
    }
   },
   "outputs": [
    {
     "data": {
      "text/plain": [
       "treatment    147276\n",
       "control      147202\n",
       "Name: group, dtype: int64"
      ]
     },
     "execution_count": 8,
     "metadata": {},
     "output_type": "execute_result"
    }
   ],
   "source": [
    "df['group'].value_counts()"
   ]
  },
  {
   "cell_type": "markdown",
   "metadata": {},
   "source": [
    "In our study, the treatment group gets the new page in dark mode, and the control group stays with the old page or the light mode. We should expect the number of people who get the new page to be equal to the number of people who receive the treatment. Similarly, we expect the number of users that get the old page be equal to the number of people who are in the control group.\n"
   ]
  },
  {
   "cell_type": "code",
   "execution_count": 9,
   "metadata": {
    "ExecuteTime": {
     "end_time": "2025-04-29T01:22:28.262346Z",
     "start_time": "2025-04-29T01:22:28.219315Z"
    }
   },
   "outputs": [
    {
     "data": {
      "text/plain": [
       "old_page    147239\n",
       "new_page    147239\n",
       "Name: landing_page, dtype: int64"
      ]
     },
     "execution_count": 9,
     "metadata": {},
     "output_type": "execute_result"
    }
   ],
   "source": [
    "df['landing_page'].value_counts()"
   ]
  },
  {
   "cell_type": "code",
   "execution_count": 10,
   "metadata": {
    "ExecuteTime": {
     "end_time": "2025-04-29T01:22:28.325355Z",
     "start_time": "2025-04-29T01:22:28.268327Z"
    }
   },
   "outputs": [
    {
     "data": {
      "text/plain": [
       "light_mode    147239\n",
       "dark_mode     147239\n",
       "Name: version, dtype: int64"
      ]
     },
     "execution_count": 10,
     "metadata": {},
     "output_type": "execute_result"
    }
   ],
   "source": [
    "df['version'].value_counts()"
   ]
  },
  {
   "cell_type": "markdown",
   "metadata": {},
   "source": [
    "**Unfortunately, the results do not match.** We will be able to clean the data set in the upcoming steps.\n"
   ]
  },
  {
   "cell_type": "markdown",
   "metadata": {},
   "source": [
    "Let's see if there are any null values in the data set:\n"
   ]
  },
  {
   "cell_type": "code",
   "execution_count": 11,
   "metadata": {
    "ExecuteTime": {
     "end_time": "2025-04-29T01:22:28.575247Z",
     "start_time": "2025-04-29T01:22:28.328340Z"
    }
   },
   "outputs": [
    {
     "name": "stdout",
     "output_type": "stream",
     "text": [
      "<class 'pandas.core.frame.DataFrame'>\n",
      "RangeIndex: 294478 entries, 0 to 294477\n",
      "Data columns (total 6 columns):\n",
      " #   Column        Non-Null Count   Dtype \n",
      "---  ------        --------------   ----- \n",
      " 0   user_id       294478 non-null  int64 \n",
      " 1   timestamp     294478 non-null  object\n",
      " 2   group         294478 non-null  object\n",
      " 3   landing_page  294478 non-null  object\n",
      " 4   converted     294478 non-null  int64 \n",
      " 5   version       294478 non-null  object\n",
      "dtypes: int64(2), object(4)\n",
      "memory usage: 13.5+ MB\n"
     ]
    }
   ],
   "source": [
    "df.info()"
   ]
  },
  {
   "cell_type": "markdown",
   "metadata": {},
   "source": [
    "Our dataset has 294,478 entries and 294,478 non-null. This means that we don't have any null values, hence we don't need to drop any observations... for now.\n"
   ]
  },
  {
   "cell_type": "markdown",
   "metadata": {},
   "source": [
    "---\n"
   ]
  },
  {
   "cell_type": "markdown",
   "metadata": {},
   "source": [
    "# 1. Designing the experiment\n"
   ]
  },
  {
   "cell_type": "markdown",
   "metadata": {},
   "source": [
    "### What is hypothesis testing?\n",
    "    \n",
    "In Statistics, hypothesis testing is a method used in statistical inference to test an assumption about a parameter. \n",
    "    \n",
    "The null hypothesis $H_0$ is an assumption we would like to test about a population. Often, this is where we test about the absence of the effect.\n",
    "    \n",
    "The alternative hypothesis $H_1$ or $H_A$ claims that there is an effect on the population. \n",
    "\n",
    "Here is an example:\n",
    "\n",
    "Suppose you wish to see whether a coin is fair by flipping it 10 times. After flipping the coin 10 times, you get the following result:\n",
    "[H, H, H, H, T, H, H, H, H, H] where H is heads and T is tails. You do a hypothesis testing to see how probable it was to see that result under the null hypothesis. Let's set our level of significance to be 5%.\n",
    "\n",
    "$$\n",
    "H_0: \\text{The coin is fair} \\\\\\\\\\\\\n",
    "H_1: \\text{The coin is not fair}\n",
    "$$\n",
    "\n",
    "Since each of the flips is independent, the coin is represented as a Bernoulli distribution, where $p$ is the probability of flipping Heads. Under the null hypothesis, the coin is fair. Therefore the probability of flipping Heads is $p = 0.5$\n",
    "The probability of observing 1 tails and 9 heads is:\n",
    "\n",
    "$\n",
    "{10\\choose 9}p^9(1-p)^1 = {10\\choose 9}(0.5)^9(1-0.5)^1 = {10\\choose 9}(0.5)^{10} = 0.009765625\n",
    "$\n",
    "\n",
    "The probability of observing 9 heads in our flips under the assumption that the coin is fair is 0.009765625. Observing that result was not very probable under the null hypothesis.\n"
   ]
  },
  {
   "cell_type": "markdown",
   "metadata": {},
   "source": [
    "From our result, the probability of flipping heads is $\\frac{9}{10} = 0.9$. \n"
   ]
  },
  {
   "cell_type": "markdown",
   "metadata": {},
   "source": [
    "The critical z-score when the level of significance is 5% is -1.96 and 1.96. Let's derive how many heads, denoted by $n\\hat{p}$ we should've seen:\n",
    "$$\n",
    "-1.96 \\leq \\frac{n\\hat{p} - np_0}{\\sqrt{np_0(1-p_0)}} \\leq 1.96 \\\\\\\\\\\\\n",
    "-1.96 \\leq \\frac{n\\hat{p} - 10*0.5}{\\sqrt{10*0.5(0.5)}} \\leq 1.96 \\\\\\\\\n",
    "-1.96 \\leq \\frac{n\\hat{p} - 5}{\\sqrt{2.5}} \\leq 1.96 \\\\\\\\\n",
    "-3.099 \\leq n\\hat{p} - 5 \\leq 3.099 \\\\\\\\\n",
    "2.099 \\leq n\\hat{p}\\leq 8.099\n",
    "$$\n"
   ]
  },
  {
   "cell_type": "markdown",
   "metadata": {},
   "source": [
    "This shows that observing 9 heads in the result is highly not probable. We should've seen more than 2, less than 8 heads. We can reject the null hypothesis since we have evidence against it. The coin was probably not fair.\n"
   ]
  },
  {
   "cell_type": "markdown",
   "metadata": {},
   "source": [
    "---\n"
   ]
  },
  {
   "cell_type": "markdown",
   "metadata": {},
   "source": [
    "## Formulating a hypothesis\n",
    "Now, let's define the hypothesis to be tested or the metrics under examination for our case study. \n",
    "\n",
    "Examples of commonly tested metrics include conversion rates, the number of signups, click-through rates, etc. For this case, let's focus on the conversion rate.\n",
    "\n",
    "Since we don't actually know which of the website pages will perform better, this will be a two-sided test. If the numbers of samples are over 30, by Central Limit Theorem, the independent samples test for population proportions is **z-test**.\n",
    "\n",
    "- **Null Hypothesis:** The conversion rate for the two website designs is the same $$H_0: p = p_0$$\n",
    "- **Alternative Hypothesis:** The conversion rate for the two website designs is **not** the same $$H_1: p \\neq p_0$$\n",
    "where $p$ is the conversion rate for the new page, and $p_0$ is the conversion rate for the old page\n",
    "\n",
    "- Let's set a confidence interval of $95\\%$, hence our level of significance will be $\\alpha = 1 - 0.95 = 5\\%$\n",
    "- We will determine whether or not there is a (significant) difference between the two pages by computing the p-value\n"
   ]
  },
  {
   "cell_type": "markdown",
   "metadata": {},
   "source": [
    "---\n"
   ]
  },
  {
   "cell_type": "markdown",
   "metadata": {},
   "source": [
    "# 2. Collect and Prepare the Data\n",
    "\n",
    "## View the Data\n"
   ]
  },
  {
   "cell_type": "markdown",
   "metadata": {},
   "source": [
    "Let's see if we have any users that appear more than one in our dataset; duplicated user_id."
   ]
  },
  {
   "cell_type": "code",
   "execution_count": 12,
   "metadata": {
    "ExecuteTime": {
     "end_time": "2025-04-29T01:22:28.653437Z",
     "start_time": "2025-04-29T01:22:28.579037Z"
    }
   },
   "outputs": [
    {
     "data": {
      "text/plain": [
       "3894"
      ]
     },
     "execution_count": 12,
     "metadata": {},
     "output_type": "execute_result"
    }
   ],
   "source": [
    "# check if some users appear multiple times\n",
    "user_sessions = df['user_id'].value_counts()\n",
    "multiple_times_user = user_sessions[user_sessions>1].count()\n",
    "multiple_times_user"
   ]
  },
  {
   "cell_type": "markdown",
   "metadata": {},
   "source": [
    "This result indicates that we have users that is appears multiple times. Since this is small compared to our dataset, we can directly remove those observations from our data. Let's remove the duplicates:\n"
   ]
  },
  {
   "cell_type": "code",
   "execution_count": 13,
   "metadata": {
    "ExecuteTime": {
     "end_time": "2025-04-29T01:22:28.748077Z",
     "start_time": "2025-04-29T01:22:28.657055Z"
    }
   },
   "outputs": [
    {
     "data": {
      "text/html": [
       "<div>\n",
       "<style scoped>\n",
       "    .dataframe tbody tr th:only-of-type {\n",
       "        vertical-align: middle;\n",
       "    }\n",
       "\n",
       "    .dataframe tbody tr th {\n",
       "        vertical-align: top;\n",
       "    }\n",
       "\n",
       "    .dataframe thead th {\n",
       "        text-align: right;\n",
       "    }\n",
       "</style>\n",
       "<table border=\"1\" class=\"dataframe\">\n",
       "  <thead>\n",
       "    <tr style=\"text-align: right;\">\n",
       "      <th></th>\n",
       "      <th>user_id</th>\n",
       "      <th>timestamp</th>\n",
       "      <th>group</th>\n",
       "      <th>landing_page</th>\n",
       "      <th>converted</th>\n",
       "      <th>version</th>\n",
       "    </tr>\n",
       "  </thead>\n",
       "  <tbody>\n",
       "    <tr>\n",
       "      <th>0</th>\n",
       "      <td>851104</td>\n",
       "      <td>2017-01-21 22:11:48.556739</td>\n",
       "      <td>control</td>\n",
       "      <td>old_page</td>\n",
       "      <td>0</td>\n",
       "      <td>light_mode</td>\n",
       "    </tr>\n",
       "    <tr>\n",
       "      <th>1</th>\n",
       "      <td>804228</td>\n",
       "      <td>2017-01-12 08:01:45.159739</td>\n",
       "      <td>control</td>\n",
       "      <td>old_page</td>\n",
       "      <td>0</td>\n",
       "      <td>light_mode</td>\n",
       "    </tr>\n",
       "    <tr>\n",
       "      <th>2</th>\n",
       "      <td>661590</td>\n",
       "      <td>2017-01-11 16:55:06.154213</td>\n",
       "      <td>treatment</td>\n",
       "      <td>new_page</td>\n",
       "      <td>0</td>\n",
       "      <td>dark_mode</td>\n",
       "    </tr>\n",
       "    <tr>\n",
       "      <th>3</th>\n",
       "      <td>853541</td>\n",
       "      <td>2017-01-08 18:28:03.143765</td>\n",
       "      <td>treatment</td>\n",
       "      <td>new_page</td>\n",
       "      <td>0</td>\n",
       "      <td>dark_mode</td>\n",
       "    </tr>\n",
       "    <tr>\n",
       "      <th>4</th>\n",
       "      <td>864975</td>\n",
       "      <td>2017-01-21 01:52:26.210827</td>\n",
       "      <td>control</td>\n",
       "      <td>old_page</td>\n",
       "      <td>1</td>\n",
       "      <td>light_mode</td>\n",
       "    </tr>\n",
       "  </tbody>\n",
       "</table>\n",
       "</div>"
      ],
      "text/plain": [
       "   user_id                   timestamp      group landing_page  converted  \\\n",
       "0   851104  2017-01-21 22:11:48.556739    control     old_page          0   \n",
       "1   804228  2017-01-12 08:01:45.159739    control     old_page          0   \n",
       "2   661590  2017-01-11 16:55:06.154213  treatment     new_page          0   \n",
       "3   853541  2017-01-08 18:28:03.143765  treatment     new_page          0   \n",
       "4   864975  2017-01-21 01:52:26.210827    control     old_page          1   \n",
       "\n",
       "      version  \n",
       "0  light_mode  \n",
       "1  light_mode  \n",
       "2   dark_mode  \n",
       "3   dark_mode  \n",
       "4  light_mode  "
      ]
     },
     "execution_count": 13,
     "metadata": {},
     "output_type": "execute_result"
    }
   ],
   "source": [
    "multiple_user_idx = user_sessions[user_sessions>1].index\n",
    "df1 = df[~df['user_id'].isin(multiple_user_idx)]\n",
    "df1.head(5)"
   ]
  },
  {
   "cell_type": "code",
   "execution_count": 14,
   "metadata": {
    "ExecuteTime": {
     "end_time": "2025-04-29T01:22:28.763080Z",
     "start_time": "2025-04-29T01:22:28.751075Z"
    }
   },
   "outputs": [
    {
     "data": {
      "text/plain": [
       "286690"
      ]
     },
     "execution_count": 14,
     "metadata": {},
     "output_type": "execute_result"
    }
   ],
   "source": [
    "df1.shape[0]"
   ]
  },
  {
   "cell_type": "markdown",
   "metadata": {},
   "source": [
    "Let's check again whether the 'group' and 'landing_page' data match."
   ]
  },
  {
   "cell_type": "code",
   "execution_count": 15,
   "metadata": {
    "ExecuteTime": {
     "end_time": "2025-04-29T01:22:28.840098Z",
     "start_time": "2025-04-29T01:22:28.767079Z"
    }
   },
   "outputs": [
    {
     "name": "stdout",
     "output_type": "stream",
     "text": [
      "group counts:\n",
      "treatment    143397\n",
      "control      143293\n",
      "Name: group, dtype: int64\n",
      "\n",
      "landing_page counts:\n",
      "new_page    143397\n",
      "old_page    143293\n",
      "Name: landing_page, dtype: int64\n"
     ]
    }
   ],
   "source": [
    "print(f\"group counts:\")\n",
    "print(df1['group'].value_counts(), end='\\n\\n')\n",
    "print(f\"landing_page counts:\")\n",
    "print(df1['landing_page'].value_counts())"
   ]
  },
  {
   "cell_type": "markdown",
   "metadata": {},
   "source": [
    "We've showed that we have successfully removed observations with users that appear multiple times.\n"
   ]
  },
  {
   "cell_type": "markdown",
   "metadata": {},
   "source": [
    "Observe the percentage of users who convert to the website in the two groups. In the converted column, if the user converts, this is denoted by 1, and 0 otherwise. We can calculate the conversion rate using the mean function across the column.\n"
   ]
  },
  {
   "cell_type": "code",
   "execution_count": 16,
   "metadata": {
    "ExecuteTime": {
     "end_time": "2025-04-29T01:22:28.950120Z",
     "start_time": "2025-04-29T01:22:28.844098Z"
    }
   },
   "outputs": [
    {
     "name": "stdout",
     "output_type": "stream",
     "text": [
      "Conversion rate of light mode group: 12.02%\n",
      "Conversion rate of dark mode group: 11.87%\n"
     ]
    }
   ],
   "source": [
    "# filter the data based off of the version (dark or light mode)\n",
    "old_version = df1[df1['version']=='light_mode']\n",
    "new_version = df1[df1['version']=='dark_mode']\n",
    "\n",
    "# get the conversion rates\n",
    "light_converted = old_version['converted'].mean()\n",
    "dark_converted = new_version['converted'].mean()\n",
    "print(f'Conversion rate of light mode group: {light_converted*100:.2f}%')\n",
    "print(f'Conversion rate of dark mode group: {dark_converted*100:.2f}%')"
   ]
  },
  {
   "cell_type": "markdown",
   "metadata": {},
   "source": [
    "## Pick the test"
   ]
  },
  {
   "cell_type": "markdown",
   "metadata": {},
   "source": [
    "We've already calculated conversion rate for both groups, and wish to test if there is a difference between population proportions. So, it's hypothesis testing for two sample proportion."
   ]
  },
  {
   "cell_type": "markdown",
   "metadata": {},
   "source": [
    "## Picking the sample \n"
   ]
  },
  {
   "cell_type": "markdown",
   "metadata": {},
   "source": [
    "Our data contains 286,690 rows, which is not small. There are instances where datasets extend into the millions, presenting a considerable challenge in terms of both time and space for conducting testing. We can derive conclusive insights by working with a sample of our data. However, determining the optimal sample size from the outset may not be immediately evident.\n",
    "\n",
    "However, we do know: \n",
    "- $\\alpha = 5\\%$\n",
    "- The power of the test is usually set to $1 - \\beta = 80\\%$\n",
    "- effect size: $2\\%$\n",
    "\n",
    "Usually, a good baseline conversion rate falls within the range of $10 - 15\\%$, let's use $13\\%$ as our baseline conversion rate in this case.\n",
    "Moreover, our team anticipates a conversion rate of $15\\%$, thereby justifying the chosen effect size of $2\\%$.\n",
    "\n",
    "Fortunately, Python facilitates this process seamlessly through the `statsmodel` library!\n"
   ]
  },
  {
   "cell_type": "markdown",
   "metadata": {},
   "source": [
    "### A refresher on levels of significance, type I and II errors\n",
    "    \n",
    "The level of significance represents the likelihood of observing your results under the assumption that the null hypothesis is true. Essentially, it quantifies the probability of committing a type I error.\n",
    "\n",
    "A type I error occurs when we reject the null hypothesis despite it being true. In simpler terms, this is akin to making a false positive conclusion.\n",
    "\n",
    "Conversely, a type II error, referred to as a false negative conclusion, occurs when we incorrectly accept the null hypothesis when it is, in fact, false. The probability of making a false negative conclusion is denoted as $\\beta$.\n",
    "    \n",
    "<img src=\"https://cf-courses-data.s3.us.cloud-object-storage.appdomain.cloud/IND-GPXX0K4XEN/Screenshot%202024-01-23%20at%201.57.02%E2%80%AFPM.png\" width=\"50%\" alt=\"iris image\">\n",
    "\n",
    "<font color=gray>*Image Resource* :</font> <a href=\"https://medium.com/geekculture/which-is-worse-type-i-or-type-ii-errors-f40a0f040fcc\">here</a>\n"
   ]
  },
  {
   "cell_type": "code",
   "execution_count": 17,
   "metadata": {
    "ExecuteTime": {
     "end_time": "2025-04-29T01:22:28.980128Z",
     "start_time": "2025-04-29T01:22:28.954124Z"
    }
   },
   "outputs": [
    {
     "data": {
      "text/plain": [
       "4720"
      ]
     },
     "execution_count": 17,
     "metadata": {},
     "output_type": "execute_result"
    }
   ],
   "source": [
    "# Effect size for a test comparing two proportions for use in power function\n",
    "effect_size = sms.proportion_effectsize(0.13, 0.15)   \n",
    "\n",
    "# The method 'solve_power' takes these keywared arguments: effect_size, nobs1, alpha, power, ratio. \n",
    "# Exactly only one need to be 'None', and it finds the value for a two sample z-test.\n",
    "# Here, it finds nobs1, which is the number of observations of sample 1.\n",
    "sample_size = sms.NormalIndPower().solve_power(effect_size=effect_size, alpha=0.05, power=0.8, ratio=1, alternative='two-sided')\n",
    "sample_size = ceil(sample_size)\n",
    "sample_size"
   ]
  },
  {
   "cell_type": "markdown",
   "metadata": {},
   "source": [
    "We would need to sample 4,720 observations from each group so that our test can be effective.\n"
   ]
  },
  {
   "cell_type": "markdown",
   "metadata": {},
   "source": [
    "We should also select our 2 samples: the treatment sample and the control sample:\n"
   ]
  },
  {
   "cell_type": "code",
   "execution_count": 18,
   "metadata": {
    "ExecuteTime": {
     "end_time": "2025-04-29T01:22:29.119177Z",
     "start_time": "2025-04-29T01:22:28.984127Z"
    }
   },
   "outputs": [
    {
     "data": {
      "text/html": [
       "<div>\n",
       "<style scoped>\n",
       "    .dataframe tbody tr th:only-of-type {\n",
       "        vertical-align: middle;\n",
       "    }\n",
       "\n",
       "    .dataframe tbody tr th {\n",
       "        vertical-align: top;\n",
       "    }\n",
       "\n",
       "    .dataframe thead th {\n",
       "        text-align: right;\n",
       "    }\n",
       "</style>\n",
       "<table border=\"1\" class=\"dataframe\">\n",
       "  <thead>\n",
       "    <tr style=\"text-align: right;\">\n",
       "      <th></th>\n",
       "      <th>user_id</th>\n",
       "      <th>timestamp</th>\n",
       "      <th>group</th>\n",
       "      <th>landing_page</th>\n",
       "      <th>converted</th>\n",
       "      <th>version</th>\n",
       "    </tr>\n",
       "  </thead>\n",
       "  <tbody>\n",
       "    <tr>\n",
       "      <th>0</th>\n",
       "      <td>740761</td>\n",
       "      <td>2017-01-19 23:06:22.166842</td>\n",
       "      <td>control</td>\n",
       "      <td>old_page</td>\n",
       "      <td>0</td>\n",
       "      <td>light_mode</td>\n",
       "    </tr>\n",
       "    <tr>\n",
       "      <th>1</th>\n",
       "      <td>685906</td>\n",
       "      <td>2017-01-15 13:37:19.383548</td>\n",
       "      <td>control</td>\n",
       "      <td>old_page</td>\n",
       "      <td>0</td>\n",
       "      <td>light_mode</td>\n",
       "    </tr>\n",
       "    <tr>\n",
       "      <th>2</th>\n",
       "      <td>803229</td>\n",
       "      <td>2017-01-02 14:46:36.522859</td>\n",
       "      <td>control</td>\n",
       "      <td>old_page</td>\n",
       "      <td>0</td>\n",
       "      <td>light_mode</td>\n",
       "    </tr>\n",
       "    <tr>\n",
       "      <th>3</th>\n",
       "      <td>771051</td>\n",
       "      <td>2017-01-14 17:49:52.369447</td>\n",
       "      <td>control</td>\n",
       "      <td>old_page</td>\n",
       "      <td>0</td>\n",
       "      <td>light_mode</td>\n",
       "    </tr>\n",
       "    <tr>\n",
       "      <th>4</th>\n",
       "      <td>726377</td>\n",
       "      <td>2017-01-18 11:18:54.592555</td>\n",
       "      <td>control</td>\n",
       "      <td>old_page</td>\n",
       "      <td>0</td>\n",
       "      <td>light_mode</td>\n",
       "    </tr>\n",
       "  </tbody>\n",
       "</table>\n",
       "</div>"
      ],
      "text/plain": [
       "   user_id                   timestamp    group landing_page  converted  \\\n",
       "0   740761  2017-01-19 23:06:22.166842  control     old_page          0   \n",
       "1   685906  2017-01-15 13:37:19.383548  control     old_page          0   \n",
       "2   803229  2017-01-02 14:46:36.522859  control     old_page          0   \n",
       "3   771051  2017-01-14 17:49:52.369447  control     old_page          0   \n",
       "4   726377  2017-01-18 11:18:54.592555  control     old_page          0   \n",
       "\n",
       "      version  \n",
       "0  light_mode  \n",
       "1  light_mode  \n",
       "2  light_mode  \n",
       "3  light_mode  \n",
       "4  light_mode  "
      ]
     },
     "execution_count": 18,
     "metadata": {},
     "output_type": "execute_result"
    }
   ],
   "source": [
    "con_sample = df1[df1['group']=='control'].sample(n=sample_size, random_state=0)\n",
    "trt_sample = df1[df1['group']=='treatment'].sample(n=sample_size, random_state=888)\n",
    "\n",
    "# Combine two samples for the next steps\n",
    "df2 = pd.concat([con_sample, trt_sample], axis=0)\n",
    "df2.reset_index(drop=True, inplace=True)\n",
    "df2.head(5)"
   ]
  },
  {
   "cell_type": "markdown",
   "metadata": {},
   "source": [
    "---\n"
   ]
  },
  {
   "cell_type": "markdown",
   "metadata": {},
   "source": [
    "# 3. Visualize the results\n"
   ]
  },
  {
   "cell_type": "markdown",
   "metadata": {},
   "source": [
    "Before we do any testing, let's take a look of our data to see the conversion rate of each group.\n"
   ]
  },
  {
   "cell_type": "code",
   "execution_count": 19,
   "metadata": {
    "ExecuteTime": {
     "end_time": "2025-04-29T01:22:29.150165Z",
     "start_time": "2025-04-29T01:22:29.123175Z"
    }
   },
   "outputs": [
    {
     "data": {
      "text/html": [
       "<div>\n",
       "<style scoped>\n",
       "    .dataframe tbody tr th:only-of-type {\n",
       "        vertical-align: middle;\n",
       "    }\n",
       "\n",
       "    .dataframe tbody tr th {\n",
       "        vertical-align: top;\n",
       "    }\n",
       "\n",
       "    .dataframe thead th {\n",
       "        text-align: right;\n",
       "    }\n",
       "</style>\n",
       "<table border=\"1\" class=\"dataframe\">\n",
       "  <thead>\n",
       "    <tr style=\"text-align: right;\">\n",
       "      <th></th>\n",
       "      <th></th>\n",
       "      <th>converted</th>\n",
       "    </tr>\n",
       "    <tr>\n",
       "      <th>group</th>\n",
       "      <th>version</th>\n",
       "      <th></th>\n",
       "    </tr>\n",
       "  </thead>\n",
       "  <tbody>\n",
       "    <tr>\n",
       "      <th>control</th>\n",
       "      <th>light_mode</th>\n",
       "      <td>0.111017</td>\n",
       "    </tr>\n",
       "    <tr>\n",
       "      <th>treatment</th>\n",
       "      <th>dark_mode</th>\n",
       "      <td>0.125000</td>\n",
       "    </tr>\n",
       "  </tbody>\n",
       "</table>\n",
       "</div>"
      ],
      "text/plain": [
       "                      converted\n",
       "group     version              \n",
       "control   light_mode   0.111017\n",
       "treatment dark_mode    0.125000"
      ]
     },
     "execution_count": 19,
     "metadata": {},
     "output_type": "execute_result"
    }
   ],
   "source": [
    "df2.groupby(['group', 'version']).agg({'converted': 'mean'})\n",
    "# df2.groupby(['group', 'version'])[['converted']].mean()     # Same results"
   ]
  },
  {
   "cell_type": "markdown",
   "metadata": {},
   "source": [
    "From this output, we see that for users that were shown the light mode website, about 11.10% of them converted. Also, about 12.5% users who were exposed to the dark mode website converted. From the numbers alone, there seems to be an increase. \n"
   ]
  },
  {
   "cell_type": "markdown",
   "metadata": {},
   "source": [
    "Let's see it from a bar plot:\n"
   ]
  },
  {
   "cell_type": "code",
   "execution_count": 20,
   "metadata": {
    "ExecuteTime": {
     "end_time": "2025-04-29T01:22:29.728883Z",
     "start_time": "2025-04-29T01:22:29.154165Z"
    }
   },
   "outputs": [
    {
     "data": {
      "image/png": "[encoded data removed]",
      "text/plain": [
       "<Figure size 640x480 with 1 Axes>"
      ]
     },
     "metadata": {},
     "output_type": "display_data"
    }
   ],
   "source": [
    "sns.barplot(x=df2['version'], y=df2['converted'], palette=['gray', 'red'])\n",
    "plt.ylim(0, 0.14)\n",
    "plt.title('Conversion rate for control and treatment group')\n",
    "plt.show()"
   ]
  },
  {
   "cell_type": "markdown",
   "metadata": {},
   "source": [
    "---\n"
   ]
  },
  {
   "cell_type": "markdown",
   "metadata": {},
   "source": [
    "# 4. Testing the Hypothesis\n"
   ]
  },
  {
   "cell_type": "markdown",
   "metadata": {},
   "source": [
    "We can now go ahead and calculate the p-value. \n"
   ]
  },
  {
   "cell_type": "markdown",
   "metadata": {},
   "source": [
    "<details>\n",
    "    <summary>What is a p-value?</summary>\n",
    "    \n",
    "A p-value is the probability to observe a value as extreme as the observed value assuming that the null hypothesis is true.\n",
    "    \n",
    "In step 1, we set that we have a 95% level of confidence, which results in a level of significance of 5%. \n",
    "\n",
    "</details>\n"
   ]
  },
  {
   "cell_type": "code",
   "execution_count": 32,
   "metadata": {
    "ExecuteTime": {
     "end_time": "2025-04-29T01:39:49.731544Z",
     "start_time": "2025-04-29T01:39:49.713127Z"
    }
   },
   "outputs": [
    {
     "name": "stdout",
     "output_type": "stream",
     "text": [
      "z-statistics: -2.1056 p-value: 0.0352\n"
     ]
    }
   ],
   "source": [
    "# Number of conversions\n",
    "ctrl_conversion = df2[df2['group']=='control']['converted']\n",
    "trt_conversion = df2[df2['group']=='treatment']['converted']\n",
    "num_converted = [ctrl_conversion.sum(), trt_conversion.sum()]\n",
    "\n",
    "# Numver of observations\n",
    "n_ctrl = ctrl_conversion.count()\n",
    "n_trt = trt_conversion.count()\n",
    "nobs = [n_ctrl, n_trt]\n",
    "\n",
    "# Test for proportions based on normal (z) test\n",
    "zstat, pvalue = sms.proportions_ztest(num_converted, nobs, alternative='two-sided')\n",
    "print(f'z-statistics: {zstat:.4f}', f'p-value: {pvalue:.4f}')"
   ]
  },
  {
   "cell_type": "markdown",
   "metadata": {},
   "source": [
    "How to interpret a p-value?\n"
   ]
  },
  {
   "cell_type": "markdown",
   "metadata": {},
   "source": [
    "| Values of p | Inference |\n",
    "| --- | --- |\n",
    "| p > 0.1 | No evidence against the null hypohesis|\n",
    "| 0.05 < p < 0.10 | Weak evidence against the null hypohesis|\n",
    "| 0.01 < p < 0.05 | Moderate evidence against the null hypohesis|\n",
    "| 0.005 < p < 0.01 | Good evidence against the null hypohesis|\n",
    "| 0.001 < p < 0.005 | Strong evidence against the null hypohesis|\n",
    "| p < 0.001 | Very strong evidence against the null hypohesis|\n"
   ]
  },
  {
   "cell_type": "markdown",
   "metadata": {},
   "source": [
    "From the result, the p-value is 0.0352, which is less than 0.05. This means that we have moderate evidence against the null hypothesis. \n",
    "\n",
    "In this case, we would reject the null hypothesis. This means that we **cannot say** that there is no difference in conversion rate between dark mode and light mode users. \n",
    "\n",
    "The team can definitely choose to implement a dark mode version of the blog, but can continue monitoring the conversion results as time goes by.\n"
   ]
  },
  {
   "cell_type": "markdown",
   "metadata": {},
   "source": [
    "---\n"
   ]
  },
  {
   "cell_type": "markdown",
   "metadata": {},
   "source": [
    "# Exercises\n",
    "\n",
    "The following exercises are to practice the material we learned. The dataset used is related to campaign performance and looks to see which group, between **ad** and **PSA (Public Service Annoucement)**, contributes the best to the company's revenue.\n"
   ]
  },
  {
   "cell_type": "code",
   "execution_count": 22,
   "metadata": {
    "ExecuteTime": {
     "end_time": "2025-04-29T01:22:36.784915Z",
     "start_time": "2025-04-29T01:22:29.765891Z"
    }
   },
   "outputs": [
    {
     "data": {
      "application/vnd.jupyter.widget-view+json": {
       "model_id": "473ecc229d4046fc8b345b4b29194b20",
       "version_major": 2,
       "version_minor": 0
      },
      "text/plain": [
       "Downloading marketing_AB.csv:   0%|          | 0/21980992 [00:00<?, ?it/s]"
      ]
     },
     "metadata": {},
     "output_type": "display_data"
    },
    {
     "data": {
      "text/html": [
       "<div>\n",
       "<style scoped>\n",
       "    .dataframe tbody tr th:only-of-type {\n",
       "        vertical-align: middle;\n",
       "    }\n",
       "\n",
       "    .dataframe tbody tr th {\n",
       "        vertical-align: top;\n",
       "    }\n",
       "\n",
       "    .dataframe thead th {\n",
       "        text-align: right;\n",
       "    }\n",
       "</style>\n",
       "<table border=\"1\" class=\"dataframe\">\n",
       "  <thead>\n",
       "    <tr style=\"text-align: right;\">\n",
       "      <th></th>\n",
       "      <th>user id</th>\n",
       "      <th>test group</th>\n",
       "      <th>converted</th>\n",
       "      <th>total ads</th>\n",
       "      <th>most ads day</th>\n",
       "      <th>most ads hour</th>\n",
       "    </tr>\n",
       "  </thead>\n",
       "  <tbody>\n",
       "    <tr>\n",
       "      <th>486402</th>\n",
       "      <td>1580930</td>\n",
       "      <td>ad</td>\n",
       "      <td>False</td>\n",
       "      <td>7</td>\n",
       "      <td>Thursday</td>\n",
       "      <td>15</td>\n",
       "    </tr>\n",
       "    <tr>\n",
       "      <th>369151</th>\n",
       "      <td>1516084</td>\n",
       "      <td>ad</td>\n",
       "      <td>False</td>\n",
       "      <td>6</td>\n",
       "      <td>Sunday</td>\n",
       "      <td>22</td>\n",
       "    </tr>\n",
       "    <tr>\n",
       "      <th>386177</th>\n",
       "      <td>1429731</td>\n",
       "      <td>ad</td>\n",
       "      <td>False</td>\n",
       "      <td>2</td>\n",
       "      <td>Thursday</td>\n",
       "      <td>21</td>\n",
       "    </tr>\n",
       "    <tr>\n",
       "      <th>502023</th>\n",
       "      <td>1653715</td>\n",
       "      <td>ad</td>\n",
       "      <td>False</td>\n",
       "      <td>2</td>\n",
       "      <td>Sunday</td>\n",
       "      <td>10</td>\n",
       "    </tr>\n",
       "    <tr>\n",
       "      <th>59901</th>\n",
       "      <td>1094987</td>\n",
       "      <td>ad</td>\n",
       "      <td>True</td>\n",
       "      <td>42</td>\n",
       "      <td>Tuesday</td>\n",
       "      <td>18</td>\n",
       "    </tr>\n",
       "  </tbody>\n",
       "</table>\n",
       "</div>"
      ],
      "text/plain": [
       "        user id test group  converted  total ads most ads day  most ads hour\n",
       "486402  1580930         ad      False          7     Thursday             15\n",
       "369151  1516084         ad      False          6       Sunday             22\n",
       "386177  1429731         ad      False          2     Thursday             21\n",
       "502023  1653715         ad      False          2       Sunday             10\n",
       "59901   1094987         ad       True         42      Tuesday             18"
      ]
     },
     "execution_count": 22,
     "metadata": {},
     "output_type": "execute_result"
    }
   ],
   "source": [
    "# Downloading the dataset\n",
    "await skillsnetwork.download_dataset('https://cf-courses-data.s3.us.cloud-object-storage.appdomain.cloud/IND-GPXX0K4XEN/marketing_AB.csv')\n",
    "marketing = pd.read_csv('marketing_AB.csv', index_col='Unnamed: 0')\n",
    "marketing.sample(5)"
   ]
  },
  {
   "cell_type": "markdown",
   "metadata": {},
   "source": [
    "### Exercise 1 - Formulate the hypothesis for this problem\n"
   ]
  },
  {
   "cell_type": "markdown",
   "metadata": {},
   "source": [
    "$H_0$: The conversion rates of two populations of ad and PSA are the same. $p_1 = p_2$\n",
    "\n",
    "$H_1$: The conversion rates of two populations of ad and PSA are **not** the same. $p_1 \\neq p_2$\n",
    "\n",
    "$\\alpha = 0.05, \\quad \\text{confidence interval} = 95\\%$\n"
   ]
  },
  {
   "cell_type": "markdown",
   "metadata": {},
   "source": [
    "<details>\n",
    "    <summary>Click here for Solution</summary>\n",
    "\n",
    "Since we don't actually know which group (psa or ad) will perform better, this will be a two-sided test.\n",
    "- Null hypothesis: The conversion rate for the two groups is the same $$H_0: p = p_0$$\n",
    "- Alternative Hypothesis: The conversion rate for the two groups is **not** the same $$H_1: p \\neq p_0$$\n",
    "where $p$ is the conversion rate for the psa, and $p_0$ is the conversion rate for the ads\n",
    "\n",
    "- Let's set a confidence interval of $95\\%$, hence our level of significance will be $\\alpha = 1 - 0.95 = 5\\%$\n",
    "\n",
    "</details>\n"
   ]
  },
  {
   "cell_type": "markdown",
   "metadata": {},
   "source": [
    "### Exercise 2 - Collect and clean up the dataset\n"
   ]
  },
  {
   "cell_type": "code",
   "execution_count": 23,
   "metadata": {
    "ExecuteTime": {
     "end_time": "2025-04-29T01:22:37.050014Z",
     "start_time": "2025-04-29T01:22:36.787916Z"
    }
   },
   "outputs": [
    {
     "name": "stdout",
     "output_type": "stream",
     "text": [
      "<class 'pandas.core.frame.DataFrame'>\n",
      "Int64Index: 588101 entries, 0 to 588100\n",
      "Data columns (total 6 columns):\n",
      " #   Column         Non-Null Count   Dtype \n",
      "---  ------         --------------   ----- \n",
      " 0   user id        588101 non-null  int64 \n",
      " 1   test group     588101 non-null  object\n",
      " 2   converted      588101 non-null  bool  \n",
      " 3   total ads      588101 non-null  int64 \n",
      " 4   most ads day   588101 non-null  object\n",
      " 5   most ads hour  588101 non-null  int64 \n",
      "dtypes: bool(1), int64(3), object(2)\n",
      "memory usage: 27.5+ MB\n"
     ]
    }
   ],
   "source": [
    "# Check null values\n",
    "marketing.info()"
   ]
  },
  {
   "cell_type": "code",
   "execution_count": 24,
   "metadata": {
    "ExecuteTime": {
     "end_time": "2025-04-29T01:22:37.170027Z",
     "start_time": "2025-04-29T01:22:37.053001Z"
    }
   },
   "outputs": [
    {
     "data": {
      "text/html": [
       "<div>\n",
       "<style scoped>\n",
       "    .dataframe tbody tr th:only-of-type {\n",
       "        vertical-align: middle;\n",
       "    }\n",
       "\n",
       "    .dataframe tbody tr th {\n",
       "        vertical-align: top;\n",
       "    }\n",
       "\n",
       "    .dataframe thead th {\n",
       "        text-align: right;\n",
       "    }\n",
       "</style>\n",
       "<table border=\"1\" class=\"dataframe\">\n",
       "  <thead>\n",
       "    <tr style=\"text-align: right;\">\n",
       "      <th></th>\n",
       "      <th>user id</th>\n",
       "      <th>test group</th>\n",
       "      <th>converted</th>\n",
       "      <th>total ads</th>\n",
       "      <th>most ads day</th>\n",
       "      <th>most ads hour</th>\n",
       "    </tr>\n",
       "  </thead>\n",
       "  <tbody>\n",
       "    <tr>\n",
       "      <th>588096</th>\n",
       "      <td>1278437</td>\n",
       "      <td>ad</td>\n",
       "      <td>False</td>\n",
       "      <td>1</td>\n",
       "      <td>Tuesday</td>\n",
       "      <td>23</td>\n",
       "    </tr>\n",
       "    <tr>\n",
       "      <th>588097</th>\n",
       "      <td>1327975</td>\n",
       "      <td>ad</td>\n",
       "      <td>False</td>\n",
       "      <td>1</td>\n",
       "      <td>Tuesday</td>\n",
       "      <td>23</td>\n",
       "    </tr>\n",
       "    <tr>\n",
       "      <th>588098</th>\n",
       "      <td>1038442</td>\n",
       "      <td>ad</td>\n",
       "      <td>False</td>\n",
       "      <td>3</td>\n",
       "      <td>Tuesday</td>\n",
       "      <td>23</td>\n",
       "    </tr>\n",
       "    <tr>\n",
       "      <th>588099</th>\n",
       "      <td>1496395</td>\n",
       "      <td>ad</td>\n",
       "      <td>False</td>\n",
       "      <td>1</td>\n",
       "      <td>Tuesday</td>\n",
       "      <td>23</td>\n",
       "    </tr>\n",
       "    <tr>\n",
       "      <th>588100</th>\n",
       "      <td>1237779</td>\n",
       "      <td>ad</td>\n",
       "      <td>False</td>\n",
       "      <td>1</td>\n",
       "      <td>Tuesday</td>\n",
       "      <td>23</td>\n",
       "    </tr>\n",
       "  </tbody>\n",
       "</table>\n",
       "</div>"
      ],
      "text/plain": [
       "        user id test group  converted  total ads most ads day  most ads hour\n",
       "588096  1278437         ad      False          1      Tuesday             23\n",
       "588097  1327975         ad      False          1      Tuesday             23\n",
       "588098  1038442         ad      False          3      Tuesday             23\n",
       "588099  1496395         ad      False          1      Tuesday             23\n",
       "588100  1237779         ad      False          1      Tuesday             23"
      ]
     },
     "execution_count": 24,
     "metadata": {},
     "output_type": "execute_result"
    }
   ],
   "source": [
    "# Check duplicates of user id\n",
    "duplicated = marketing.duplicated(subset='user id', keep=False)\n",
    "df = marketing[~duplicated]    # No duplicates\n",
    "df.tail(5)"
   ]
  },
  {
   "cell_type": "markdown",
   "metadata": {},
   "source": [
    "### Exercise 3 - Given that the baseline conversion rate is 10%, and we expect the conversion rate to be 15%, find the sample size needed\n"
   ]
  },
  {
   "cell_type": "code",
   "execution_count": 27,
   "metadata": {
    "ExecuteTime": {
     "end_time": "2025-04-29T01:28:01.431439Z",
     "start_time": "2025-04-29T01:28:01.405907Z"
    }
   },
   "outputs": [
    {
     "data": {
      "text/plain": [
       "681"
      ]
     },
     "execution_count": 27,
     "metadata": {},
     "output_type": "execute_result"
    }
   ],
   "source": [
    "# Get the effective sample size for z-test\n",
    "effect_size = sms.proportion_effectsize(0.1, 0.15)\n",
    "nobs1 = sms.NormalIndPower().solve_power(effect_size=effect_size, nobs1=None, ratio=1, alpha=0.05, power=0.8, alternative='two-sided')\n",
    "nobs1 = ceil(nobs1)\n",
    "nobs1"
   ]
  },
  {
   "cell_type": "markdown",
   "metadata": {},
   "source": [
    "### Exercise 4 - Split the data into treatment and control groups\n"
   ]
  },
  {
   "cell_type": "code",
   "execution_count": 48,
   "metadata": {
    "ExecuteTime": {
     "end_time": "2025-04-29T01:45:52.002081Z",
     "start_time": "2025-04-29T01:45:51.805020Z"
    }
   },
   "outputs": [],
   "source": [
    "# 682 samples are needed from both groups\n",
    "ad_df = df[df['test group']=='ad'].sample(nobs1, random_state=1234)\n",
    "psa_df = df[df['test group']=='psa'].sample(nobs1, random_state=1234)\n",
    "\n",
    "ad_converted = ad_df['converted'].sum()\n",
    "psa_converted = psa_df['converted'].sum()\n",
    "converted = [ad_converted, psa_converted]\n",
    "\n",
    "ad_cnt = len(ad_df)\n",
    "psa_cnt = len(psa_df)\n",
    "counts = [ad_cnt, psa_cnt]"
   ]
  },
  {
   "cell_type": "markdown",
   "metadata": {},
   "source": [
    "### Exercise 5 - Calculate the p-value\n"
   ]
  },
  {
   "cell_type": "code",
   "execution_count": 49,
   "metadata": {
    "ExecuteTime": {
     "end_time": "2025-04-29T01:45:56.381346Z",
     "start_time": "2025-04-29T01:45:56.367799Z"
    }
   },
   "outputs": [
    {
     "name": "stdout",
     "output_type": "stream",
     "text": [
      "z-stat: 1.3894, p-value: 0.1647\n"
     ]
    }
   ],
   "source": [
    "z_stat, p_val = sms.proportions_ztest(converted, counts, alternative='two-sided')\n",
    "print(f'z-stat: {z_stat:.4f}, p-value: {p_val:.4f}')"
   ]
  },
  {
   "cell_type": "markdown",
   "metadata": {},
   "source": [
    "Based on the p-value > 0.05, it is not statistically significant to **reject the null hypothesis**. Thus, the population proportions are the same; there is **no difference in the effects of both ad and PSA**."
   ]
  }
 ],
 "metadata": {
  "kernelspec": {
   "display_name": "Python 3 (ipykernel)",
   "language": "python",
   "name": "python3"
  },
  "language_info": {
   "codemirror_mode": {
    "name": "ipython",
    "version": 3
   },
   "file_extension": ".py",
   "mimetype": "text/x-python",
   "name": "python",
   "nbconvert_exporter": "python",
   "pygments_lexer": "ipython3",
   "version": "3.9.17"
  },
  "toc": {
   "base_numbering": 1,
   "nav_menu": {},
   "number_sections": true,
   "sideBar": true,
   "skip_h1_title": false,
   "title_cell": "Table of Contents",
   "title_sidebar": "Contents",
   "toc_cell": false,
   "toc_position": {},
   "toc_section_display": true,
   "toc_window_display": false
  }
 },
 "nbformat": 4,
 "nbformat_minor": 4
}
